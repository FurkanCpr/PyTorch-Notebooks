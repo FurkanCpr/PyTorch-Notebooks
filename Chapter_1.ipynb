{
  "nbformat": 4,
  "nbformat_minor": 0,
  "metadata": {
    "colab": {
      "name": "Chapter - 1.ipynb",
      "provenance": [],
      "collapsed_sections": []
    },
    "kernelspec": {
      "name": "python3",
      "display_name": "Python 3"
    }
  },
  "cells": [
    {
      "cell_type": "code",
      "metadata": {
        "id": "0EBnqnJfhuZU",
        "colab_type": "code",
        "colab": {}
      },
      "source": [
        "import torch as t"
      ],
      "execution_count": 0,
      "outputs": []
    },
    {
      "cell_type": "code",
      "metadata": {
        "id": "PaEe63weh1Ei",
        "colab_type": "code",
        "colab": {
          "base_uri": "https://localhost:8080/",
          "height": 34
        },
        "outputId": "c82cab04-54cc-46a6-f14e-20ef8a530a68"
      },
      "source": [
        "print(t.__version__)"
      ],
      "execution_count": 4,
      "outputs": [
        {
          "output_type": "stream",
          "text": [
            "1.4.0\n"
          ],
          "name": "stdout"
        }
      ]
    },
    {
      "cell_type": "code",
      "metadata": {
        "id": "pAeECKPxh52P",
        "colab_type": "code",
        "colab": {
          "base_uri": "https://localhost:8080/",
          "height": 34
        },
        "outputId": "f24482ec-a11c-4709-8dfb-5027d730d81f"
      },
      "source": [
        "x = t.Tensor([5, 3]) # Tensor is called an array basically.\n",
        "y = t.Tensor([2, 1])\n",
        "\n",
        "print(x*y)"
      ],
      "execution_count": 5,
      "outputs": [
        {
          "output_type": "stream",
          "text": [
            "tensor([10.,  3.])\n"
          ],
          "name": "stdout"
        }
      ]
    },
    {
      "cell_type": "code",
      "metadata": {
        "id": "B3E2wlJFoKAT",
        "colab_type": "code",
        "colab": {
          "base_uri": "https://localhost:8080/",
          "height": 51
        },
        "outputId": "8d050b13-4eb0-43c5-ff1d-8df7634270d8"
      },
      "source": [
        "zeros = t.zeros([2, 5]) #similarly with numpy.zeros\n",
        "zeros"
      ],
      "execution_count": 8,
      "outputs": [
        {
          "output_type": "execute_result",
          "data": {
            "text/plain": [
              "tensor([[0., 0., 0., 0., 0.],\n",
              "        [0., 0., 0., 0., 0.]])"
            ]
          },
          "metadata": {
            "tags": []
          },
          "execution_count": 8
        }
      ]
    },
    {
      "cell_type": "code",
      "metadata": {
        "id": "w_Cqw2O1om1i",
        "colab_type": "code",
        "colab": {
          "base_uri": "https://localhost:8080/",
          "height": 51
        },
        "outputId": "ed1d2383-c952-478b-b7ea-f7a5de13afa7"
      },
      "source": [
        "rand = t.rand([2, 5])\n",
        "rand"
      ],
      "execution_count": 10,
      "outputs": [
        {
          "output_type": "execute_result",
          "data": {
            "text/plain": [
              "tensor([[0.7393, 0.1394, 0.6042, 0.2833, 0.1204],\n",
              "        [0.1525, 0.7550, 0.8247, 0.8038, 0.8301]])"
            ]
          },
          "metadata": {
            "tags": []
          },
          "execution_count": 10
        }
      ]
    },
    {
      "cell_type": "code",
      "metadata": {
        "id": "kFS0QO5JovZS",
        "colab_type": "code",
        "colab": {
          "base_uri": "https://localhost:8080/",
          "height": 51
        },
        "outputId": "11bdc461-6cf6-43ae-9146-305e2a60751f"
      },
      "source": [
        "# Reshaping process name view() in PyTorch.\n",
        "\n",
        "rand.view([1, 10])"
      ],
      "execution_count": 13,
      "outputs": [
        {
          "output_type": "execute_result",
          "data": {
            "text/plain": [
              "tensor([[0.7393, 0.1394, 0.6042, 0.2833, 0.1204, 0.1525, 0.7550, 0.8247, 0.8038,\n",
              "         0.8301]])"
            ]
          },
          "metadata": {
            "tags": []
          },
          "execution_count": 13
        }
      ]
    },
    {
      "cell_type": "code",
      "metadata": {
        "id": "Z_kEA2lipVf6",
        "colab_type": "code",
        "colab": {}
      },
      "source": [
        ""
      ],
      "execution_count": 0,
      "outputs": []
    }
  ]
}