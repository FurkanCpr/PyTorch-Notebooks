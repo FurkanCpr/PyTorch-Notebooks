{
  "nbformat": 4,
  "nbformat_minor": 0,
  "metadata": {
    "colab": {
      "name": "Chapter - 4.ipynb",
      "provenance": [],
      "collapsed_sections": []
    },
    "kernelspec": {
      "name": "python3",
      "display_name": "Python 3"
    }
  },
  "cells": [
    {
      "cell_type": "code",
      "metadata": {
        "id": "VDH6u4GbTs2P",
        "colab_type": "code",
        "outputId": "7def732e-bf53-4605-ef55-fe9a8c221516",
        "colab": {
          "base_uri": "https://localhost:8080/",
          "height": 119
        }
      },
      "source": [
        "import torch as t\n",
        "import torchvision\n",
        "from torchvision import transforms, datasets\n",
        "import torch.nn as nn\n",
        "import torch.nn.functional as F\n",
        "\n",
        "train = datasets.MNIST('', train=True, download=True,\n",
        "                       transform=transforms.Compose([\n",
        "                           transforms.ToTensor()\n",
        "                       ]))\n",
        "\n",
        "test = datasets.MNIST('', train=False, download=True,\n",
        "                       transform=transforms.Compose([\n",
        "                           transforms.ToTensor()\n",
        "                       ]))\n",
        "\n",
        "\n",
        "trainset = t.utils.data.DataLoader(train, batch_size=10, shuffle=True)\n",
        "testset = t.utils.data.DataLoader(test, batch_size=10, shuffle=False)\n",
        "\n",
        "\n",
        "class Net(nn.Module):\n",
        "    def __init__(self):\n",
        "        super().__init__()\n",
        "        self.fc1 = nn.Linear(28*28, 64)\n",
        "        self.fc2 = nn.Linear(64, 64)\n",
        "        self.fc3 = nn.Linear(64, 64)\n",
        "        self.fc4 = nn.Linear(64, 10)\n",
        "\n",
        "    def forward(self, x):\n",
        "        x = F.relu(self.fc1(x))\n",
        "        x = F.relu(self.fc2(x))\n",
        "        x = F.relu(self.fc3(x))\n",
        "        x = self.fc4(x)\n",
        "        return F.log_softmax(x, dim=1)\n",
        "\n",
        "net = Net()\n",
        "print(net)"
      ],
      "execution_count": 5,
      "outputs": [
        {
          "output_type": "stream",
          "text": [
            "Net(\n",
            "  (fc1): Linear(in_features=784, out_features=64, bias=True)\n",
            "  (fc2): Linear(in_features=64, out_features=64, bias=True)\n",
            "  (fc3): Linear(in_features=64, out_features=64, bias=True)\n",
            "  (fc4): Linear(in_features=64, out_features=10, bias=True)\n",
            ")\n"
          ],
          "name": "stdout"
        }
      ]
    },
    {
      "cell_type": "code",
      "metadata": {
        "id": "t5eMvXfmUrZt",
        "colab_type": "code",
        "colab": {}
      },
      "source": [
        "X = t.rand((28, 28))\n",
        "X = X.view(-1, 28*28)"
      ],
      "execution_count": 0,
      "outputs": []
    },
    {
      "cell_type": "code",
      "metadata": {
        "id": "NVDRPKuPU-OT",
        "colab_type": "code",
        "colab": {}
      },
      "source": [
        "output = net(X)"
      ],
      "execution_count": 0,
      "outputs": []
    },
    {
      "cell_type": "code",
      "metadata": {
        "id": "99kFbkfpVAcj",
        "colab_type": "code",
        "outputId": "05235e1c-60be-4edd-e324-32a1506a7966",
        "colab": {
          "base_uri": "https://localhost:8080/",
          "height": 51
        }
      },
      "source": [
        "output"
      ],
      "execution_count": 8,
      "outputs": [
        {
          "output_type": "execute_result",
          "data": {
            "text/plain": [
              "tensor([[-2.1686, -2.2727, -2.1859, -2.3178, -2.3801, -2.2950, -2.3283, -2.3134,\n",
              "         -2.3495, -2.4459]], grad_fn=<LogSoftmaxBackward>)"
            ]
          },
          "metadata": {
            "tags": []
          },
          "execution_count": 8
        }
      ]
    },
    {
      "cell_type": "code",
      "metadata": {
        "id": "LWddb6udVBbD",
        "colab_type": "code",
        "colab": {
          "base_uri": "https://localhost:8080/",
          "height": 68
        },
        "outputId": "60eaa938-30e4-4664-f974-5e85c8399aa6"
      },
      "source": [
        "import torch.optim as optim\n",
        "\n",
        "optimizer = optim.Adam(net.parameters(), lr=0.001 )\n",
        "\n",
        "EPOCHS = 3 \n",
        "\n",
        "for epoch in range(EPOCHS):\n",
        "  for data in trainset:\n",
        "    X, y = data #X contains grayscale pixel values. y contains label values.\n",
        "    net.zero_grad() # set the gradient to zero before calculation loss on every step.\n",
        "    output = net(X.view(-1, 28*28))\n",
        "    loss = F.nll_loss(output, y) # Our data is not one-hot-encoding type, so beacuse of that we can not use MSE for calculating loss. We have a scalar value so loss function will be calculating with nll_loss() function. \n",
        "    loss.backward() # Feed the loss value to neural network backward.\n",
        "    optimizer.step() # This is a parameter update basen on the current gradient.\n",
        "  print(loss)"
      ],
      "execution_count": 10,
      "outputs": [
        {
          "output_type": "stream",
          "text": [
            "tensor(1.0686, grad_fn=<NllLossBackward>)\n",
            "tensor(0.0347, grad_fn=<NllLossBackward>)\n",
            "tensor(0.0022, grad_fn=<NllLossBackward>)\n"
          ],
          "name": "stdout"
        }
      ]
    },
    {
      "cell_type": "code",
      "metadata": {
        "id": "5E1ifVrUiNxR",
        "colab_type": "code",
        "colab": {
          "base_uri": "https://localhost:8080/",
          "height": 34
        },
        "outputId": "a0b82c60-7808-4b8d-c887-53aa02be345a"
      },
      "source": [
        "correct = 0\n",
        "total = 0\n",
        "\n",
        "with t.no_grad():\n",
        "  for data in trainset:\n",
        "    X, y = data\n",
        "    output = net(X.view(-1, 28*28))\n",
        "    for idx, i in enumerate(output):\n",
        "      if t.argmax(i) == y[idx]:\n",
        "        correct += 1\n",
        "      total += 1\n",
        "print(\"Accuracy: \", round(correct/total, 3))"
      ],
      "execution_count": 16,
      "outputs": [
        {
          "output_type": "stream",
          "text": [
            "Accuracy:  0.978\n"
          ],
          "name": "stdout"
        }
      ]
    },
    {
      "cell_type": "code",
      "metadata": {
        "id": "BOV7S7-dElF0",
        "colab_type": "code",
        "colab": {
          "base_uri": "https://localhost:8080/",
          "height": 34
        },
        "outputId": "4972e6d5-ed27-4e57-82bc-94c43f954bcd"
      },
      "source": [
        "y[1]"
      ],
      "execution_count": 20,
      "outputs": [
        {
          "output_type": "execute_result",
          "data": {
            "text/plain": [
              "tensor(0)"
            ]
          },
          "metadata": {
            "tags": []
          },
          "execution_count": 20
        }
      ]
    },
    {
      "cell_type": "code",
      "metadata": {
        "id": "CBVdcy6xF9gA",
        "colab_type": "code",
        "colab": {
          "base_uri": "https://localhost:8080/",
          "height": 265
        },
        "outputId": "19813d21-9982-4015-9806-2b566c0a8d7f"
      },
      "source": [
        "import matplotlib.pyplot as plt\n",
        "plt.imshow(X[1].view(28, 28)) # First image pixels \n",
        "plt.show() # Equal to y[0] (in other words our first label)"
      ],
      "execution_count": 21,
      "outputs": [
        {
          "output_type": "display_data",
          "data": {
            "image/png": "[encoded data removed]",
            "text/plain": [
              "<Figure size 432x288 with 1 Axes>"
            ]
          },
          "metadata": {
            "tags": [],
            "needs_background": "light"
          }
        }
      ]
    },
    {
      "cell_type": "code",
      "metadata": {
        "id": "b5bMAEVrGJL-",
        "colab_type": "code",
        "colab": {
          "base_uri": "https://localhost:8080/",
          "height": 51
        },
        "outputId": "c68220a5-6007-4011-e806-b64bbfe4e62c"
      },
      "source": [
        "print(torch.argmax(net(X[1].view(-1,784))[0])) # Argmax func finding the class with the largest predicted probability.\n",
        "y[1]"
      ],
      "execution_count": 30,
      "outputs": [
        {
          "output_type": "stream",
          "text": [
            "tensor(0)\n"
          ],
          "name": "stdout"
        },
        {
          "output_type": "execute_result",
          "data": {
            "text/plain": [
              "tensor(0)"
            ]
          },
          "metadata": {
            "tags": []
          },
          "execution_count": 30
        }
      ]
    },
    {
      "cell_type": "code",
      "metadata": {
        "id": "cn5EOpOwG_WG",
        "colab_type": "code",
        "colab": {}
      },
      "source": [
        ""
      ],
      "execution_count": 0,
      "outputs": []
    }
  ]
}